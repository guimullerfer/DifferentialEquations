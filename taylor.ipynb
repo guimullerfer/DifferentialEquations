{
  "nbformat": 4,
  "nbformat_minor": 0,
  "metadata": {
    "colab": {
      "name": "taylor.ipynb",
      "provenance": []
    },
    "kernelspec": {
      "name": "python3",
      "display_name": "Python 3"
    },
    "widgets": {
      "application/vnd.jupyter.widget-state+json": {
        "2609b7e9226044bcb51f1f96f0cd7d64": {
          "model_module": "@jupyter-widgets/controls",
          "model_name": "VBoxModel",
          "state": {
            "_view_name": "VBoxView",
            "_dom_classes": [
              "widget-interact"
            ],
            "_model_name": "VBoxModel",
            "_view_module": "@jupyter-widgets/controls",
            "_model_module_version": "1.5.0",
            "_view_count": null,
            "_view_module_version": "1.5.0",
            "box_style": "",
            "layout": "IPY_MODEL_9ca8ef8db52b45b7b6457b9b07976a38",
            "_model_module": "@jupyter-widgets/controls",
            "children": [
              "IPY_MODEL_0692f00df7264dfebc9b5bde9900fcc5",
              "IPY_MODEL_e5d6cfbc16644b67bad8a40cb9b58580"
            ]
          }
        },
        "9ca8ef8db52b45b7b6457b9b07976a38": {
          "model_module": "@jupyter-widgets/base",
          "model_name": "LayoutModel",
          "state": {
            "_view_name": "LayoutView",
            "grid_template_rows": null,
            "right": null,
            "justify_content": null,
            "_view_module": "@jupyter-widgets/base",
            "overflow": null,
            "_model_module_version": "1.2.0",
            "_view_count": null,
            "flex_flow": null,
            "width": null,
            "min_width": null,
            "border": null,
            "align_items": null,
            "bottom": null,
            "_model_module": "@jupyter-widgets/base",
            "top": null,
            "grid_column": null,
            "overflow_y": null,
            "overflow_x": null,
            "grid_auto_flow": null,
            "grid_area": null,
            "grid_template_columns": null,
            "flex": null,
            "_model_name": "LayoutModel",
            "justify_items": null,
            "grid_row": null,
            "max_height": null,
            "align_content": null,
            "visibility": null,
            "align_self": null,
            "height": null,
            "min_height": null,
            "padding": null,
            "grid_auto_rows": null,
            "grid_gap": null,
            "max_width": null,
            "order": null,
            "_view_module_version": "1.2.0",
            "grid_template_areas": null,
            "object_position": null,
            "object_fit": null,
            "grid_auto_columns": null,
            "margin": null,
            "display": null,
            "left": null
          }
        },
        "0692f00df7264dfebc9b5bde9900fcc5": {
          "model_module": "@jupyter-widgets/controls",
          "model_name": "IntSliderModel",
          "state": {
            "_view_name": "IntSliderView",
            "style": "IPY_MODEL_131c30e7035d40a49d5a6c4ea45423d0",
            "_dom_classes": [],
            "description": "rang",
            "step": 1,
            "_model_name": "IntSliderModel",
            "orientation": "horizontal",
            "max": 10,
            "_view_module": "@jupyter-widgets/controls",
            "_model_module_version": "1.5.0",
            "value": 4,
            "_view_count": null,
            "disabled": false,
            "_view_module_version": "1.5.0",
            "min": 1,
            "continuous_update": true,
            "readout_format": "d",
            "description_tooltip": null,
            "readout": true,
            "_model_module": "@jupyter-widgets/controls",
            "layout": "IPY_MODEL_4eaef3fca282475a83df88ee4ffe1815"
          }
        },
        "e5d6cfbc16644b67bad8a40cb9b58580": {
          "model_module": "@jupyter-widgets/output",
          "model_name": "OutputModel",
          "state": {
            "_view_name": "OutputView",
            "msg_id": "",
            "_dom_classes": [],
            "_model_name": "OutputModel",
            "outputs": [
              {
                "output_type": "stream",
                "metadata": {
                  "tags": []
                },
                "text": "4\n",
                "stream": "stdout"
              },
              {
                "output_type": "display_data",
                "metadata": {
                  "tags": []
                },
                "image/png": "iVBORw0KGgoAAAANSUhEUgAAAXIAAAD4CAYAAADxeG0DAAAABHNCSVQICAgIfAhkiAAAAAlwSFlz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\n",
                "text/plain": "<Figure size 432x288 with 1 Axes>"
              }
            ],
            "_view_module": "@jupyter-widgets/output",
            "_model_module_version": "1.0.0",
            "_view_count": null,
            "_view_module_version": "1.0.0",
            "layout": "IPY_MODEL_8d0a4c03b4c2475583a36b6cb5d88fe1",
            "_model_module": "@jupyter-widgets/output"
          }
        },
        "131c30e7035d40a49d5a6c4ea45423d0": {
          "model_module": "@jupyter-widgets/controls",
          "model_name": "SliderStyleModel",
          "state": {
            "_view_name": "StyleView",
            "handle_color": null,
            "_model_name": "SliderStyleModel",
            "description_width": "",
            "_view_module": "@jupyter-widgets/base",
            "_model_module_version": "1.5.0",
            "_view_count": null,
            "_view_module_version": "1.2.0",
            "_model_module": "@jupyter-widgets/controls"
          }
        },
        "4eaef3fca282475a83df88ee4ffe1815": {
          "model_module": "@jupyter-widgets/base",
          "model_name": "LayoutModel",
          "state": {
            "_view_name": "LayoutView",
            "grid_template_rows": null,
            "right": null,
            "justify_content": null,
            "_view_module": "@jupyter-widgets/base",
            "overflow": null,
            "_model_module_version": "1.2.0",
            "_view_count": null,
            "flex_flow": null,
            "width": null,
            "min_width": null,
            "border": null,
            "align_items": null,
            "bottom": null,
            "_model_module": "@jupyter-widgets/base",
            "top": null,
            "grid_column": null,
            "overflow_y": null,
            "overflow_x": null,
            "grid_auto_flow": null,
            "grid_area": null,
            "grid_template_columns": null,
            "flex": null,
            "_model_name": "LayoutModel",
            "justify_items": null,
            "grid_row": null,
            "max_height": null,
            "align_content": null,
            "visibility": null,
            "align_self": null,
            "height": null,
            "min_height": null,
            "padding": null,
            "grid_auto_rows": null,
            "grid_gap": null,
            "max_width": null,
            "order": null,
            "_view_module_version": "1.2.0",
            "grid_template_areas": null,
            "object_position": null,
            "object_fit": null,
            "grid_auto_columns": null,
            "margin": null,
            "display": null,
            "left": null
          }
        },
        "8d0a4c03b4c2475583a36b6cb5d88fe1": {
          "model_module": "@jupyter-widgets/base",
          "model_name": "LayoutModel",
          "state": {
            "_view_name": "LayoutView",
            "grid_template_rows": null,
            "right": null,
            "justify_content": null,
            "_view_module": "@jupyter-widgets/base",
            "overflow": null,
            "_model_module_version": "1.2.0",
            "_view_count": null,
            "flex_flow": null,
            "width": null,
            "min_width": null,
            "border": null,
            "align_items": null,
            "bottom": null,
            "_model_module": "@jupyter-widgets/base",
            "top": null,
            "grid_column": null,
            "overflow_y": null,
            "overflow_x": null,
            "grid_auto_flow": null,
            "grid_area": null,
            "grid_template_columns": null,
            "flex": null,
            "_model_name": "LayoutModel",
            "justify_items": null,
            "grid_row": null,
            "max_height": null,
            "align_content": null,
            "visibility": null,
            "align_self": null,
            "height": null,
            "min_height": null,
            "padding": null,
            "grid_auto_rows": null,
            "grid_gap": null,
            "max_width": null,
            "order": null,
            "_view_module_version": "1.2.0",
            "grid_template_areas": null,
            "object_position": null,
            "object_fit": null,
            "grid_auto_columns": null,
            "margin": null,
            "display": null,
            "left": null
          }
        }
      }
    }
  },
  "cells": [
    {
      "cell_type": "code",
      "metadata": {
        "id": "81SLCXZA_rLI",
        "colab_type": "code",
        "outputId": "144fd5ca-39ff-4c65-9600-4fcbeeabaa74",
        "colab": {
          "base_uri": "https://localhost:8080/",
          "height": 314,
          "referenced_widgets": [
            "2609b7e9226044bcb51f1f96f0cd7d64",
            "9ca8ef8db52b45b7b6457b9b07976a38",
            "0692f00df7264dfebc9b5bde9900fcc5",
            "e5d6cfbc16644b67bad8a40cb9b58580",
            "131c30e7035d40a49d5a6c4ea45423d0",
            "4eaef3fca282475a83df88ee4ffe1815",
            "8d0a4c03b4c2475583a36b6cb5d88fe1"
          ]
        }
      },
      "source": [
        "from scipy.misc import derivative as d\n",
        "import scipy as scp\n",
        "import numpy as np\n",
        "from matplotlib import pyplot as plt\n",
        "from ipywidgets import interact, interactive, fixed, interact_manual\n",
        "x = np.linspace(-3,3)\n",
        "x0 = 0\n",
        "\n",
        "  \n",
        "def f(x): #Example Function\n",
        "  return np.sin(x) + np.cos(x)\n",
        "\n",
        "\n",
        "def taylor(rang): #Taylor Series\n",
        "  f_approximate = f(x0)\n",
        "  print(rang)\n",
        "  for i in range (1,rang):\n",
        "    f_approximate = f_approximate + ((d(f, x0, n = i, order = 11)) * (x**(i)))/(fat(i))\n",
        "  plt.plot(x, f_approximate, 'c')\n",
        "  plt.plot(x, f(x))\n",
        "  plt.axvline(0, color='k')\n",
        "  plt.axhline(0, color='k')\n",
        "\n",
        "def fat(num): #Factorial\n",
        "  result = 1\n",
        "  for i in range (num, 1, -1):\n",
        "    result = result * i\n",
        "  return result\n",
        "\n",
        "interactive(taylor, rang = (1,10))\n"
      ],
      "execution_count": 1,
      "outputs": [
        {
          "output_type": "display_data",
          "data": {
            "application/vnd.jupyter.widget-view+json": {
              "model_id": "2609b7e9226044bcb51f1f96f0cd7d64",
              "version_minor": 0,
              "version_major": 2
            },
            "text/plain": [
              "interactive(children=(IntSlider(value=5, description='rang', max=10, min=1), Output()), _dom_classes=('widget-…"
            ]
          },
          "metadata": {
            "tags": []
          }
        }
      ]
    }
  ]
}