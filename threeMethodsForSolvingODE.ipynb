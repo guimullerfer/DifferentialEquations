{
  "nbformat": 4,
  "nbformat_minor": 0,
  "metadata": {
    "colab": {
      "name": "threeMethodsForSolvingODE.ipynb",
      "provenance": []
    },
    "kernelspec": {
      "name": "python3",
      "display_name": "Python 3"
    }
  },
  "cells": [
    {
      "cell_type": "markdown",
      "metadata": {
        "id": "HshHv0pMJejw",
        "colab_type": "text"
      },
      "source": [
        "This code is about three methods for solving ordinary differential equations <br>\n",
        "\n",
        "1.   Euler's Method\n",
        "2.   Improved Euler's Method\n",
        "3.   Runge-Kutta Method\n",
        "\n",
        "<br>\n",
        "All three methods are basead on Taylor<br>\n",
        "**Euler's Method** trunc Taylor Series in the second derivative:<br><br>\n",
        "$f(x) = f(x_{0}) + (x-x_{0}).f'(x_{0})$\n",
        "<br><br>For two parameters (x e y):<br><br>\n",
        "$f(x) = f(x_{0}) + (x-x_{0}).f'(x_{0}, y_{0})$\n",
        "<br><br>Normally the initial value problem reports the value of y when x = 0. So we can improve to:\n",
        "<br><br>\n",
        "$f(x) =y_{0} + (x-x_{0}).f'(x_{0}, y_{0})$\n",
        "<br><br>\n",
        "For interactions, the equation is:<br><br>\n",
        "$y_{n} =y_{n-1} + h.f'(x_{n-1}, y_{n-1}); h = (x_{n} - x_{n-1}) = constant$<br><br>\n",
        "The Improved Euler's Method changes some things to decrease the error:<br><br>\n",
        "$y_{n} =y_{n-1} + h.({f'(x_{n-1}, y_{n-1}) + f'(x_{n-1} + h, y_{n-1} + h.y_{n-1}}))/2$\n",
        "<br><br>\n",
        "Runge-Kutta Method is the most accurate of the three. \n",
        "there are different versions of this method, \n",
        "with different matrices of coefficients. \n",
        "The classical is the fourth order Runge-Kutta method. The coefficients are\n",
        ":<br><br>\n",
        "$k_{1} = f(x_{n-1},y_{n-1})$<br>\n",
        "$k_{2} = f(x_{n-1} + (h/2),y_{n-1}+ (h/2) * k_{1})$<br>\n",
        "$k_{3} = f(x_{n-1} + (h/2),y_{n-1}+ (h/2) * k_{2})$<br>\n",
        "$k_{4} = f(x_{n-1} + h,y_{n-1} + h*k_{3})$<br>\n",
        "\n",
        "<br>\n",
        "Now I'm going to use the methods for this problem:<br>\n",
        "$f'(x,y) = 4 - x + 2y$<br>\n"
      ]
    },
    {
      "cell_type": "code",
      "metadata": {
        "id": "LKglNSkc0KE2",
        "colab_type": "code",
        "colab": {}
      },
      "source": [
        "# Packages\n",
        "import numpy as np\n",
        "from matplotlib import pyplot as plt\n",
        "from scipy.misc import derivative as d"
      ],
      "execution_count": 0,
      "outputs": []
    },
    {
      "cell_type": "code",
      "metadata": {
        "id": "QXndrVFz1QTC",
        "colab_type": "code",
        "colab": {}
      },
      "source": [
        "x = np.linspace(-3,3)\n",
        "y = x\n",
        "x0 = 0\n",
        "\n",
        "def fDerivative(x, y): # The derivative\n",
        "  return 4 - x + 2*y  \n",
        "  \n",
        "def eulerMethod(h = 0.1, a = 0, b = 2, PVI = 1):\n",
        "  xk = np.arange(a, b + h, h)\n",
        "  n = len(xk)\n",
        "  yk = np.zeros(n)\n",
        "  yk[0] = PVI\n",
        "  for i in range (1, n):\n",
        "    yk[i] = yk[i - 1] + h*(fDerivative(xk[i-1], yk[i-1]))\n",
        "  result = np.array([xk, yk])\n",
        "  return result\n",
        "\n",
        "def improvedEulerMethod(h = 0.1, a = 0, b = 2, PVI = 1):\n",
        "  xk = np.arange(a, b + h, h)\n",
        "  n = len(xk)\n",
        "  yk = np.zeros(n)\n",
        "  yk[0] = PVI\n",
        "  for i in range (1, n):\n",
        "    yk[i] = yk[i - 1] + h*(fDerivative(xk[i-1], yk[i-1]) + fDerivative(xk[i-1] + h, yk[i-1] + h*yk[i-1]))/2\n",
        "  result = np.array([xk, yk])\n",
        "  return result\n",
        "    \n",
        "def rungeKuttaMethod(h = 0.1, a = 0, b = 2, PVI = 1):\n",
        "  xk = np.arange(a, b + h, h)\n",
        "  n = len(xk)\n",
        "  yk = np.zeros(n)\n",
        "  yk[0] = PVI\n",
        "  for i in range (1, n):\n",
        "    k1 = fDerivative(xk[i-1], yk[i-1])\n",
        "    k2 = fDerivative(xk[i-1] + h/2, yk[i-1] + (h/2)*k1)\n",
        "    k3 = fDerivative(xk[i-1] + h/2, yk[i-1] + (h/2)*k2)\n",
        "    k4 = fDerivative(xk[i-1] + h, yk[i-1] + (h)*k3)\n",
        "    yk[i] = yk[i - 1] + h*(k1 + 2*k2 + 2*k3 + k4)/6\n",
        "  result = np.array([xk, yk])\n",
        "  return result  \n",
        "\n",
        "def fOriginal(x): # Original Function\n",
        "  return -(7/4) + 0.5*x + (11/4)*(np.exp(2*x))"
      ],
      "execution_count": 0,
      "outputs": []
    },
    {
      "cell_type": "code",
      "metadata": {
        "id": "O13Vmyqd2aXm",
        "colab_type": "code",
        "outputId": "9a61c171-d3ea-4e0f-cf37-e3569fefd4fc",
        "colab": {
          "base_uri": "https://localhost:8080/",
          "height": 282
        }
      },
      "source": [
        "x_original = np.linspace(0, 2)\n",
        "\n",
        "resultEuler =  eulerMethod()\n",
        "resultImprovedEuler = improvedEulerMethod()\n",
        "resultRunge = rungeKuttaMethod()\n",
        "\n",
        "plt.plot(resultEuler[0], resultEuler[1], 'r--')\n",
        "plt.plot(resultImprovedEuler[0], resultImprovedEuler[1], 'b--')\n",
        "plt.plot(resultRunge[0], resultRunge[1], 'g--')\n",
        "plt.plot(x_original, fOriginal(x_original), 'y')\n",
        "\n",
        "plt.legend(['Euler', 'Improved Euler', 'Runge', 'Original'])\n",
        "plt.axvline(0, color='k')\n",
        "plt.axhline(0, color='k')\n"
      ],
      "execution_count": 21,
      "outputs": [
        {
          "output_type": "execute_result",
          "data": {
            "text/plain": [
              "<matplotlib.lines.Line2D at 0x7fcbe1704438>"
            ]
          },
          "metadata": {
            "tags": []
          },
          "execution_count": 21
        },
        {
          "output_type": "display_data",
          "data": {
            "image/png": "[encoded data removed]",
            "text/plain": [
              "<Figure size 432x288 with 1 Axes>"
            ]
          },
          "metadata": {
            "tags": []
          }
        }
      ]
    },
    {
      "cell_type": "code",
      "metadata": {
        "id": "mH3GX-QX2vSb",
        "colab_type": "code",
        "outputId": "3d014bfd-6408-41e1-d9f0-d1990dbe041e",
        "colab": {
          "base_uri": "https://localhost:8080/",
          "height": 282
        }
      },
      "source": [
        "plt.plot(resultRunge[0], resultRunge[1], 'g--')"
      ],
      "execution_count": 22,
      "outputs": [
        {
          "output_type": "execute_result",
          "data": {
            "text/plain": [
              "[<matplotlib.lines.Line2D at 0x7fcbe167cc18>]"
            ]
          },
          "metadata": {
            "tags": []
          },
          "execution_count": 22
        },
        {
          "output_type": "display_data",
          "data": {
            "image/png": "[encoded data removed]",
            "text/plain": [
              "<Figure size 432x288 with 1 Axes>"
            ]
          },
          "metadata": {
            "tags": []
          }
        }
      ]
    },
    {
      "cell_type": "code",
      "metadata": {
        "id": "OpyuRr-2F-DW",
        "colab_type": "code",
        "outputId": "8bf2d76f-2b09-499c-d607-a84816f4a649",
        "colab": {
          "base_uri": "https://localhost:8080/",
          "height": 282
        }
      },
      "source": [
        "plt.plot(x_original, fOriginal(x_original), 'y')"
      ],
      "execution_count": 23,
      "outputs": [
        {
          "output_type": "execute_result",
          "data": {
            "text/plain": [
              "[<matplotlib.lines.Line2D at 0x7fcbe184ee10>]"
            ]
          },
          "metadata": {
            "tags": []
          },
          "execution_count": 23
        },
        {
          "output_type": "display_data",
          "data": {
            "image/png": "[encoded data removed]",
            "text/plain": [
              "<Figure size 432x288 with 1 Axes>"
            ]
          },
          "metadata": {
            "tags": []
          }
        }
      ]
    },
    {
      "cell_type": "code",
      "metadata": {
        "id": "1b9pESMNGMib",
        "colab_type": "code",
        "outputId": "121b3c53-88a8-46d1-c17b-0e6bcbf91df9",
        "colab": {
          "base_uri": "https://localhost:8080/",
          "height": 136
        }
      },
      "source": [
        "print('Absolute error:\\n')\n",
        "print('Euler = ', np.sum(np.abs(fOriginal(resultEuler[0]) - resultEuler[1])))\n",
        "print('\\nImproved Euler = ', np.sum(np.abs(fOriginal(resultImprovedEuler[0]) - resultImprovedEuler[1])))\n",
        "print('\\nRunge = ', np.sum(np.abs(fOriginal(resultRunge[0]) - resultRunge[1])))"
      ],
      "execution_count": 24,
      "outputs": [
        {
          "output_type": "stream",
          "text": [
            "Absolute error:\n",
            "\n",
            "Euler =  197.0565662109178\n",
            "\n",
            "Improved Euler =  134.84438254940227\n",
            "\n",
            "Runge =  0.029115096380417205\n"
          ],
          "name": "stdout"
        }
      ]
    },
    {
      "cell_type": "code",
      "metadata": {
        "id": "DMRYx63EG_Ut",
        "colab_type": "code",
        "outputId": "06f87fe8-ef75-4cd5-a1ed-60eb99bb34bf",
        "colab": {
          "base_uri": "https://localhost:8080/",
          "height": 136
        }
      },
      "source": [
        "print('Relative error:\\n')\n",
        "print('Euler = ', np.sum(np.abs(fOriginal(resultEuler[0]) - resultEuler[1])/fOriginal(resultEuler[0])))\n",
        "print('\\nImproved Euler = ', np.sum(np.abs(fOriginal(resultImprovedEuler[0]) - resultImprovedEuler[1])/fOriginal(resultImprovedEuler[0])))\n",
        "print('\\nRunge = ', np.sum(np.abs(fOriginal(resultRunge[0]) - resultRunge[1])/fOriginal(resultRunge[0])))"
      ],
      "execution_count": 25,
      "outputs": [
        {
          "output_type": "stream",
          "text": [
            "Relative error:\n",
            "\n",
            "Euler =  3.529473749851242\n",
            "\n",
            "Improved Euler =  2.527047527581291\n",
            "\n",
            "Runge =  0.0005050588466531283\n"
          ],
          "name": "stdout"
        }
      ]
    }
  ]
}