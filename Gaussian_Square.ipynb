{
  "nbformat": 4,
  "nbformat_minor": 0,
  "metadata": {
    "colab": {
      "name": "Gaussian Square.ipynb",
      "provenance": [],
      "collapsed_sections": []
    },
    "kernelspec": {
      "name": "python3",
      "display_name": "Python 3"
    }
  },
  "cells": [
    {
      "cell_type": "markdown",
      "metadata": {
        "id": "84lL7bKXoGjS",
        "colab_type": "text"
      },
      "source": [
        "**1. Solved Integrel with Gaussian square.**\n",
        "<br>\n",
        "And comparation with your analytical solution\n",
        "<br>\n",
        "$ (1) \\displaystyle \\int_{-1}^{1}\\sqrt{x+1}dx\\\\\n",
        "(2) \\displaystyle \\int_{0}^{1}\\sqrt{8x+1}dx$"
      ]
    },
    {
      "cell_type": "code",
      "metadata": {
        "id": "hjeWQFaxpIhh",
        "colab_type": "code",
        "colab": {}
      },
      "source": [
        "# Packages\n",
        "import numpy as np\n",
        "from matplotlib import pyplot as plt\n",
        "\n",
        "from sympy import *"
      ],
      "execution_count": 0,
      "outputs": []
    },
    {
      "cell_type": "code",
      "metadata": {
        "id": "vzRyki55pWi4",
        "colab_type": "code",
        "colab": {}
      },
      "source": [
        "xs = symbols('x') # The variable 'xs' represent the symbol 'x'\n",
        "def gaussianSquare(f, a=-1, b=1): # f is my function, a and b are my limits of integration\n",
        "  fIntegral = f((b-a)*xs/2 + (a+b)/2) # fIntegral use the Gaussian square\n",
        "  return ((b-a)/2)*(fIntegral.subs(xs, (-1/(3**(1/2)))) + fIntegral.subs(xs, (1/(3**(1/2))))) #return the solution\n",
        "\n",
        "def f1(x): #function 1\n",
        "  return (x+1)**(1/2)\n",
        "\n",
        "def f2(x): #function 2\n",
        "  return (8*x + 1)**(1/2)"
      ],
      "execution_count": 0,
      "outputs": []
    },
    {
      "cell_type": "code",
      "metadata": {
        "id": "HYOfylRYrWJG",
        "colab_type": "code",
        "outputId": "d4626445-7ae6-493a-efcc-99fce52a8027",
        "colab": {
          "base_uri": "https://localhost:8080/",
          "height": 51
        }
      },
      "source": [
        "print(\"Result with Gaussian Square - Function 1: \",gaussianSquare(f1))\n",
        "print(\"Result with Gaussian Square - Function 2: \",gaussianSquare(f2, 0, 1))"
      ],
      "execution_count": 11,
      "outputs": [
        {
          "output_type": "stream",
          "text": [
            "Result with Gaussian Square - Function 1:  1.90604122774284\n",
            "Result with Gaussian Square - Function 2:  2.17194746313265\n"
          ],
          "name": "stdout"
        }
      ]
    },
    {
      "cell_type": "markdown",
      "metadata": {
        "id": "9_YG5if1yQHf",
        "colab_type": "text"
      },
      "source": [
        "**2. Analytics Solved:**<br>\n",
        "$ (1) \\displaystyle \\int_{-1}^{1}\\sqrt{x+1}dx = \\frac{4.\\sqrt{2}}{3} = 1.88561808316\n",
        "\\\\\n",
        "(2) \\displaystyle \\int_{0}^{1}\\sqrt{8x+1}dx = \\frac{13}{6} = 2.16666666667\n",
        "$\n",
        "\n"
      ]
    },
    {
      "cell_type": "markdown",
      "metadata": {
        "id": "VwwMDGothwKr",
        "colab_type": "text"
      },
      "source": [
        "**3. Error**"
      ]
    },
    {
      "cell_type": "code",
      "metadata": {
        "id": "ncNxPKDuzWCN",
        "colab_type": "code",
        "outputId": "c315eafe-f719-44b8-8575-5d93a8126290",
        "colab": {
          "base_uri": "https://localhost:8080/",
          "height": 51
        }
      },
      "source": [
        "print(\"Error Function 1: \", np.abs(gaussianSquare(f1) - (4*(2**(1/2))/3)))\n",
        "print(\"Error Function 2: \", np.abs(gaussianSquare(f2, 0, 1) - (13/6)))"
      ],
      "execution_count": 14,
      "outputs": [
        {
          "output_type": "stream",
          "text": [
            "Error Function 1:  0.0204231445787180\n",
            "Error Function 2:  0.00528079646598156\n"
          ],
          "name": "stdout"
        }
      ]
    }
  ]
}